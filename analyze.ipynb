{
 "metadata": {
  "language_info": {
   "codemirror_mode": {
    "name": "ipython",
    "version": 3
   },
   "file_extension": ".py",
   "mimetype": "text/x-python",
   "name": "python",
   "nbconvert_exporter": "python",
   "pygments_lexer": "ipython3",
   "version": "3.7.6"
  },
  "orig_nbformat": 2,
  "kernelspec": {
   "name": "python3",
   "display_name": "Python 3.7.6 64-bit ('base': conda)",
   "metadata": {
    "interpreter": {
     "hash": "a79844178d930ccad4ea29a50db83a54de481f46f913f5a9f67826328eb8a990"
    }
   }
  }
 },
 "nbformat": 4,
 "nbformat_minor": 2,
 "cells": [
  {
   "cell_type": "code",
   "execution_count": 4,
   "metadata": {},
   "outputs": [],
   "source": [
    "import pandas as pd\n",
    "import matplotlib.pyplot as plt\n",
    "import pickle\n",
    "import numpy as np\n",
    "\n",
    "num_plot = 1\n",
    "data_name = '20180125_20180125.p'"
   ]
  },
  {
   "cell_type": "code",
   "execution_count": 5,
   "metadata": {},
   "outputs": [],
   "source": [
    "result = pd.read_csv('./result/energy_ngmm5_{}.csv'.format(data_name[:-2]))\n",
    "result = result.sort_values('anomaly_score')"
   ]
  },
  {
   "cell_type": "code",
   "execution_count": 6,
   "metadata": {},
   "outputs": [],
   "source": [
    "low_5 = result[:num_plot]\n",
    "top_5 = result[-num_plot:]"
   ]
  },
  {
   "cell_type": "code",
   "execution_count": 8,
   "metadata": {},
   "outputs": [],
   "source": [
    "def process(file_path):\n",
    "    d_list = pd.read_csv(file_path)\n",
    "    d_list = d_list.drop('Unnamed: 0', axis=1)\n",
    "    d_list=d_list.reset_index()\n",
    "    d_list['index'] = df.index\n",
    "    d_list = d_list.set_index('index')\n",
    "\n",
    "    return d_list"
   ]
  },
  {
   "cell_type": "code",
   "execution_count": null,
   "metadata": {},
   "outputs": [],
   "source": [
    "# reconstructed x\n",
    "dec_list = process('dec_list_{}.csv'.format(data_name[:-2]))"
   ]
  },
  {
   "cell_type": "code",
   "execution_count": 64,
   "metadata": {},
   "outputs": [],
   "source": [
    "# real x\n",
    "x_list = process('x_list_{}.csv'.format(data_name[:-2]))"
   ]
  },
  {
   "cell_type": "code",
   "execution_count": 65,
   "metadata": {},
   "outputs": [],
   "source": [
    "date = []\n",
    "for i in low_5['date'].values:\n",
    "    date.append(i)\n",
    "for i in top_5['date'].values:\n",
    "    date.append(i)"
   ]
  },
  {
   "cell_type": "code",
   "execution_count": null,
   "metadata": {},
   "outputs": [],
   "source": [
    "# 1개 시점에서 변수 30개에 대한 reconst_x & x 결과\n",
    "name = ['low score', 'high score']\n",
    "\n",
    "for i in range(len(date)):\n",
    "    print(date[i])\n",
    "    print(name[i])\n",
    "    plt.figure(figsize=(20,5))\n",
    "    plt.scatter(['var_{}'.format(i) for i in range(31)], x_list[x_list.index==date[i]].reset_index().transpose()[1:].values, c='blue')\n",
    "    plt.scatter(['var_{}'.format(i) for i in range(31)], dec_list[dec_list.index==date[i]].reset_index().transpose()[1:].values, c='red')\n",
    "    plt.xticks(rotation=45)\n",
    "    plt.legend(['real_x','reconst_x'])\n",
    "    plt.title('{}-{}'.format(data, date[i]))\n",
    "    # plt.show()\n",
    "    plt.savefig('./visualize/time/{}-{}.jpg'.format(data[:-2], name[i]))"
   ]
  },
  {
   "cell_type": "code",
   "execution_count": null,
   "metadata": {},
   "outputs": [],
   "source": [
    "# 1개 변수에 대해 high&low 모든 시점에 대한 reconst_x & x 에 대한 결과\n",
    "# fig, ax = plt.subplots(4, 8)\n",
    "\n",
    "for j in range(len(dec_list.columns)):\n",
    "    file_name = 'var_{}'.format(j)\n",
    "    plt.figure(figsize=(10,5))\n",
    "    for i in range(len(date)):\n",
    "        \n",
    "        plt.scatter(date[i], x_list[x_list.index==date[i]].iloc[0,j], c='blue')\n",
    "        plt.scatter(date[i], dec_list[dec_list.index==date[i]].iloc[0,j], c='red')\n",
    "        \n",
    "    plt.legend(['real_x', 'reconst_x'])\n",
    "    plt.xticks(rotation=45)\n",
    "    plt.title(file_name)\n",
    "    plt.savefig('./visualize/var/{}/'.format(data_name[:-2]) + file_name + '.jpg')"
   ]
  },
  {
   "cell_type": "code",
   "execution_count": null,
   "metadata": {},
   "outputs": [],
   "source": []
  }
 ]
}